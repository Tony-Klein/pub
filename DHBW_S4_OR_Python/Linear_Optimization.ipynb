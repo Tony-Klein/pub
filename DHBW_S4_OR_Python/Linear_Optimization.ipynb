{
 "cells": [
  {
   "cell_type": "markdown",
   "id": "1f7d4a54-7a1b-444a-af94-ad726c4b4f1f",
   "metadata": {},
   "source": [
    "# Lineare Optimierung"
   ]
  },
  {
   "cell_type": "code",
   "execution_count": 1,
   "id": "6b584465-175f-4e7e-846a-7edaec38a45a",
   "metadata": {},
   "outputs": [],
   "source": [
    "from pulp import *\n",
    "import numpy as np\n",
    "from scipy.optimize import linprog"
   ]
  },
  {
   "cell_type": "markdown",
   "id": "63c11d1d-3e5b-436a-b551-0e3d430a07dd",
   "metadata": {},
   "source": [
    "## Skript 1"
   ]
  },
  {
   "cell_type": "markdown",
   "id": "29b5077f-6288-423e-b0ab-9278d23fa6af",
   "metadata": {},
   "source": [
    "### Übungsaufgabe 1 - Skript 1 / Folie 41 (x1 = 0; x2 = 0; x3 = 12 oder x1 = 0; x2 = 4; x3 = 8)"
   ]
  },
  {
   "cell_type": "markdown",
   "id": "0e6ffcee-58d9-4213-a563-2584c73eb280",
   "metadata": {},
   "source": [
    "#### Alternative 1 - Simplex Methode"
   ]
  },
  {
   "cell_type": "code",
   "execution_count": 2,
   "id": "574a74ae-11fd-452e-b515-29f59193380f",
   "metadata": {},
   "outputs": [
    {
     "name": "stdout",
     "output_type": "stream",
     "text": [
      "All optimal solutions:\n",
      "x = 0.0\n",
      "x = 3.9999999999999982\n",
      "x = 8.000000000000002\n",
      "Optimal value = 72.0\n"
     ]
    },
    {
     "name": "stderr",
     "output_type": "stream",
     "text": [
      "/tmp/ipykernel_8886/1591079750.py:19: DeprecationWarning: `method='simplex'` is deprecated and will be removed in SciPy 1.11.0. Please use one of the HiGHS solvers (e.g. `method='highs'`) in new code.\n",
      "  res = linprog(c, A_ub=A, b_ub=b, bounds=bounds, method='simplex')\n"
     ]
    }
   ],
   "source": [
    "from scipy.optimize import linprog\n",
    "\n",
    "# Define the objective function coefficients\n",
    "c = [-3, -6, -6]\n",
    "\n",
    "# Define the inequality constraint matrix\n",
    "A = [[4/3, 1/2, 1/3],\n",
    "     [2/3, 2/3, 2/3],\n",
    "     [1/3, 1, 1/2],\n",
    "     [4/5, 4/5, 4/7]]\n",
    "\n",
    "# Define the inequality constraint vector\n",
    "b = [8, 8, 8, 8]\n",
    "\n",
    "# Define the lower bounds\n",
    "bounds = [(0, None), (0, None), (0, None)]\n",
    "\n",
    "# Solve the linear programming problem using the simplex method\n",
    "res = linprog(c, A_ub=A, b_ub=b, bounds=bounds, method='simplex')\n",
    "\n",
    "# Print all optimal solutions\n",
    "print(\"All optimal solutions:\")\n",
    "for x in res.x:\n",
    "    print(f\"x = {x}\")\n",
    "\n",
    "# Print the optimal value of the objective function\n",
    "print(f\"Optimal value = {-res.fun}\")  # Negate the result for maximization\n"
   ]
  },
  {
   "cell_type": "markdown",
   "id": "54a827e8-66bf-45e9-b193-f6da01f86e28",
   "metadata": {},
   "source": [
    "#### Alternative 2 - Duale Simplex Methode"
   ]
  },
  {
   "cell_type": "code",
   "execution_count": 3,
   "id": "a7c2eed7-0b13-4790-b1ed-1b9698f81063",
   "metadata": {},
   "outputs": [
    {
     "name": "stdout",
     "output_type": "stream",
     "text": [
      "All optimal solutions:\n",
      "x = 0.0\n",
      "x = 0.0\n",
      "x = 12.000000000000002\n",
      "Optimal value = -72.00000000000001\n"
     ]
    }
   ],
   "source": [
    "from scipy.optimize import linprog\n",
    "\n",
    "# Define the objective function coefficients\n",
    "c = [-3, -6, -6]\n",
    "\n",
    "# Define the inequality constraint matrix\n",
    "A = [[4/3, 1/2, 1/3],\n",
    "     [2/3, 2/3, 2/3],\n",
    "     [1/3, 1, 1/2],\n",
    "     [4/5, 4/5, 4/7]]\n",
    "\n",
    "# Define the inequality constraint vector\n",
    "b = [8, 8, 8, 8]\n",
    "\n",
    "# Define the lower bounds\n",
    "bounds = [(0, None), (0, None), (0, None)]\n",
    "\n",
    "# Solve the linear programming problem using the dual simplex method\n",
    "res = linprog(c, A_ub=A, b_ub=b, bounds=bounds, method='highs')\n",
    "\n",
    "# Print all optimal solutions\n",
    "print(\"All optimal solutions:\")\n",
    "for x in res.x:\n",
    "    print(f\"x = {x}\")\n",
    "\n",
    "# Print the optimal value of the objective function\n",
    "print(f\"Optimal value = {res.fun}\")\n"
   ]
  },
  {
   "cell_type": "markdown",
   "id": "d3c69bc2-7719-40cd-855a-1e37d0a988a6",
   "metadata": {},
   "source": [
    "#### Alternative 3 - Revised Simplex Methode"
   ]
  },
  {
   "cell_type": "code",
   "execution_count": 4,
   "id": "ef4bf05f-ffd8-4626-b01e-49f8b1170083",
   "metadata": {},
   "outputs": [
    {
     "name": "stdout",
     "output_type": "stream",
     "text": [
      "All optimal solutions:\n",
      "x = 0.0\n",
      "x = 3.999999999999999\n",
      "x = 8.000000000000002\n",
      "Optimal value = -72.0\n"
     ]
    },
    {
     "name": "stderr",
     "output_type": "stream",
     "text": [
      "/tmp/ipykernel_8886/3675359257.py:19: DeprecationWarning: `method='revised simplex'` is deprecated and will be removed in SciPy 1.11.0. Please use one of the HiGHS solvers (e.g. `method='highs'`) in new code.\n",
      "  res = linprog(c, A_ub=A, b_ub=b, bounds=bounds, method='revised simplex')\n"
     ]
    }
   ],
   "source": [
    "from scipy.optimize import linprog\n",
    "\n",
    "# Define the objective function coefficients\n",
    "c = [-3, -6, -6]\n",
    "\n",
    "# Define the inequality constraint matrix\n",
    "A = [[4/3, 1/2, 1/3],\n",
    "     [2/3, 2/3, 2/3],\n",
    "     [1/3, 1, 1/2],\n",
    "     [4/5, 4/5, 4/7]]\n",
    "\n",
    "# Define the inequality constraint vector\n",
    "b = [8, 8, 8, 8]\n",
    "\n",
    "# Define the lower bounds\n",
    "bounds = [(0, None), (0, None), (0, None)]\n",
    "\n",
    "# Solve the linear programming problem using the revised simplex method\n",
    "res = linprog(c, A_ub=A, b_ub=b, bounds=bounds, method='revised simplex')\n",
    "\n",
    "# Print all optimal solutions\n",
    "print(\"All optimal solutions:\")\n",
    "for x in res.x:\n",
    "    print(f\"x = {x}\")\n",
    "\n",
    "# Print the optimal value of the objective function\n",
    "print(f\"Optimal value = {res.fun}\")\n"
   ]
  },
  {
   "cell_type": "markdown",
   "id": "b9cae482-6ac3-4d53-85f1-0787eea2d6af",
   "metadata": {},
   "source": [
    "#### Alternative 4 - Pulp Library"
   ]
  },
  {
   "cell_type": "code",
   "execution_count": 5,
   "id": "91076bf4-21cf-4a1b-b31e-dc89e784c50a",
   "metadata": {},
   "outputs": [
    {
     "name": "stdout",
     "output_type": "stream",
     "text": [
      "Welcome to the CBC MILP Solver \n",
      "Version: 2.10.3 \n",
      "Build Date: Dec 15 2019 \n",
      "\n",
      "command line - /home/tonyklein/Git/PythonOR/.venv/lib/python3.11/site-packages/pulp/solverdir/cbc/linux/64/cbc /tmp/cf5e4221bd4848c38b2ba77b525205b0-pulp.mps max timeMode elapsed branch printingOptions all solution /tmp/cf5e4221bd4848c38b2ba77b525205b0-pulp.sol (default strategy 1)\n",
      "At line 2 NAME          MODEL\n",
      "At line 3 ROWS\n",
      "At line 9 COLUMNS\n",
      "At line 25 RHS\n",
      "At line 30 BOUNDS\n",
      "At line 31 ENDATA\n",
      "Problem MODEL has 4 rows, 3 columns and 12 elements\n",
      "Coin0008I MODEL read with 0 errors\n",
      "Option for timeMode changed from cpu to elapsed\n",
      "Presolve 4 (0) rows, 3 (0) columns and 12 (0) elements\n",
      "0  Obj -0 Dual inf 15 (3)\n",
      "0  Obj -0 Dual inf 15 (3)\n",
      "1  Obj 72\n",
      "Optimal - objective value 72\n",
      "Optimal objective 72 - 1 iterations time 0.002\n",
      "Option for printingOptions changed from normal to all\n",
      "Total time (CPU seconds):       0.00   (Wallclock seconds):       0.00\n",
      "\n",
      "x1 =  0.0\n",
      "x2 =  0.0\n",
      "x3 =  12.0\n",
      "Optimal value =  72.0\n"
     ]
    },
    {
     "name": "stderr",
     "output_type": "stream",
     "text": [
      "/home/tonyklein/Git/PythonOR/.venv/lib/python3.11/site-packages/pulp/pulp.py:1352: UserWarning: Spaces are not permitted in the name. Converted to '_'\n",
      "  warnings.warn(\"Spaces are not permitted in the name. Converted to '_'\")\n"
     ]
    }
   ],
   "source": [
    "# Create the LP problem\n",
    "prob = LpProblem(\"Maximization Problem\", LpMaximize)\n",
    "\n",
    "# Define the decision variables\n",
    "x1 = LpVariable(\"x1\", lowBound=0)\n",
    "x2 = LpVariable(\"x2\", lowBound=0)\n",
    "x3 = LpVariable(\"x3\", lowBound=0)\n",
    "\n",
    "# Define the objective function (= Zielfunktion)\n",
    "prob += 3*x1 + 6*x2 + 6*x3\n",
    "\n",
    "# Define the restrictions (= Nebenbedingungen)\n",
    "prob += 4/3*x1 + 1/2*x2 + 1/3*x3 <= 8\n",
    "prob += 2/3*x1 + 2/3*x2 + 2/3*x3 <= 8\n",
    "prob += 1/3*x1 + 1*x2 + 1/2*x3 <= 8\n",
    "prob += 4/5*x1 + 4/5*x2 + 4/7*x3 <= 8\n",
    "\n",
    "# Solve the LP problem\n",
    "prob.solve()\n",
    "\n",
    "# Print the optimal values of the decision variables\n",
    "print(\"x1 = \", value(x1))\n",
    "print(\"x2 = \", value(x2))\n",
    "print(\"x3 = \", value(x3))\n",
    "\n",
    "# Print the optimal value of the objective function\n",
    "print(\"Optimal value = \", value(prob.objective))\n"
   ]
  },
  {
   "cell_type": "markdown",
   "id": "c8c5b901-7f29-4b99-873e-fc1d1097ef08",
   "metadata": {},
   "source": [
    "### Übungsaufgabe 2 - Skript 1 / Folie 43"
   ]
  },
  {
   "cell_type": "code",
   "execution_count": 6,
   "id": "f1216724-fd07-48e0-86f4-bdb1280b444f",
   "metadata": {},
   "outputs": [
    {
     "name": "stdout",
     "output_type": "stream",
     "text": [
      "x1 =  0.73033708\n",
      "x2 =  0.8988764\n",
      "x3 =  1.8539326\n",
      "Optimal value =  15.39325848\n",
      "Welcome to the CBC MILP Solver \n",
      "Version: 2.10.3 \n",
      "Build Date: Dec 15 2019 \n",
      "\n",
      "command line - /home/tonyklein/Git/PythonOR/.venv/lib/python3.11/site-packages/pulp/solverdir/cbc/linux/64/cbc /tmp/9adc50490f7447009a4430ef5a7825ac-pulp.mps timeMode elapsed branch printingOptions all solution /tmp/9adc50490f7447009a4430ef5a7825ac-pulp.sol (default strategy 1)\n",
      "At line 2 NAME          MODEL\n",
      "At line 3 ROWS\n",
      "At line 8 COLUMNS\n",
      "At line 21 RHS\n",
      "At line 25 BOUNDS\n",
      "At line 26 ENDATA\n",
      "Problem MODEL has 3 rows, 3 columns and 9 elements\n",
      "Coin0008I MODEL read with 0 errors\n",
      "Option for timeMode changed from cpu to elapsed\n",
      "Presolve 3 (0) rows, 3 (0) columns and 9 (0) elements\n",
      "0  Obj 0 Primal inf 6.9999997 (3)\n",
      "3  Obj 15.393258\n",
      "Optimal - objective value 15.393258\n",
      "Optimal objective 15.39325843 - 3 iterations time 0.002\n",
      "Option for printingOptions changed from normal to all\n",
      "Total time (CPU seconds):       0.00   (Wallclock seconds):       0.00\n",
      "\n"
     ]
    }
   ],
   "source": [
    "# Create the LP problem\n",
    "prob = LpProblem(\"Minimization Problem\", LpMinimize)\n",
    "\n",
    "# Define the decision variables\n",
    "x1 = LpVariable(\"x1\", lowBound=0)\n",
    "x2 = LpVariable(\"x2\", lowBound=0)\n",
    "x3 = LpVariable(\"x3\", lowBound=0)\n",
    "\n",
    "# Define the objective function (= Zielfunktion)\n",
    "prob += 6*x1 + 4*x2 + 4*x3\n",
    "\n",
    "# Define the restrictions (= Nebenbedingungen)\n",
    "prob += 300*x1 + 600*x2 + 400*x3 >= 1500\n",
    "prob += 60*x1 + 15*x2 + 50*x3 >= 150\n",
    "prob += 125*x1 + 125*x2 + 25*x3 >= 250\n",
    "\n",
    "# Solve the LP problem\n",
    "prob.solve()\n",
    "\n",
    "# Print the optimal values of the decision variables\n",
    "print(\"x1 = \", value(x1))\n",
    "print(\"x2 = \", value(x2))\n",
    "print(\"x3 = \", value(x3))\n",
    "\n",
    "# Print the optimal value of the objective function\n",
    "print(\"Optimal value = \", value(prob.objective))\n"
   ]
  },
  {
   "cell_type": "markdown",
   "id": "2456dade-5609-418f-b652-a236adacbc34",
   "metadata": {},
   "source": [
    "### Übungsaufgabe 3 - Skript 1 / Folie 44"
   ]
  },
  {
   "cell_type": "code",
   "execution_count": 7,
   "id": "2066a6ab-3a3d-4905-81a0-d29a37f326d4",
   "metadata": {},
   "outputs": [
    {
     "name": "stdout",
     "output_type": "stream",
     "text": [
      "Welcome to the CBC MILP Solver \n",
      "Version: 2.10.3 \n",
      "Build Date: Dec 15 2019 \n",
      "\n",
      "command line - /home/tonyklein/Git/PythonOR/.venv/lib/python3.11/site-packages/pulp/solverdir/cbc/linux/64/cbc /tmp/b6ba5a56602a46cebca8801be79ef052-pulp.mps timeMode elapsed branch printingOptions all solution /tmp/b6ba5a56602a46cebca8801be79ef052-pulp.sol (default strategy 1)\n",
      "At line 2 NAME          MODEL\n",
      "At line 3 ROWS\n",
      "At line 8 COLUMNS\n",
      "At line 21 RHS\n",
      "At line 25 BOUNDS\n",
      "At line 26 ENDATA\n",
      "Problem MODEL has 3 rows, 3 columns and 9 elements\n",
      "Coin0008I MODEL read with 0 errors\n",
      "Option for timeMode changed from cpu to elapsed\n",
      "Presolve 3 (0) rows, 3 (0) columns and 9 (0) elements\n",
      "0  Obj 0 Primal inf 0.4999999 (1)\n",
      "1  Obj 125\n",
      "Optimal - objective value 125\n",
      "Optimal objective 125 - 1 iterations time 0.002\n",
      "Option for printingOptions changed from normal to all\n",
      "Total time (CPU seconds):       0.00   (Wallclock seconds):       0.00\n",
      "\n",
      "x1 =  0.0\n",
      "x2 =  0.0\n",
      "x3 =  0.5\n",
      "Optimal value =  125.0\n"
     ]
    }
   ],
   "source": [
    "# Create the LP problem\n",
    "prob = LpProblem(\"Minimization Problem\", LpMinimize)\n",
    "\n",
    "# Define the decision variables\n",
    "x1 = LpVariable(\"x1\", lowBound=0)\n",
    "x2 = LpVariable(\"x2\", lowBound=0)\n",
    "x3 = LpVariable(\"x3\", lowBound=0)\n",
    "\n",
    "# Define the objective function (= Zielfunktion)\n",
    "prob += 150*x1 + 200*x2 + 250*x3\n",
    "\n",
    "# Define the restrictions (= Nebenbedingungen)\n",
    "prob += 150*x1 + 300*x2 + 200*x3 <= 200\n",
    "prob += 500*x1 + 1250*x2 + 2000*x3 >= 1000\n",
    "prob += 32*x1 + 20*x2 + 50*x3 <= 40\n",
    "\n",
    "# Solve the LP problem\n",
    "prob.solve()\n",
    "\n",
    "# Print the optimal values of the decision variables\n",
    "print(\"x1 = \", value(x1))\n",
    "print(\"x2 = \", value(x2))\n",
    "print(\"x3 = \", value(x3))\n",
    "\n",
    "# Print the optimal value of the objective function\n",
    "print(\"Optimal value = \", value(prob.objective))\n"
   ]
  },
  {
   "cell_type": "markdown",
   "id": "f092343e-46e5-4758-b1a3-53b354b0635f",
   "metadata": {},
   "source": [
    "### Übungsaufgabe 4 - Skript 1 / Folie 47"
   ]
  },
  {
   "cell_type": "code",
   "execution_count": 8,
   "id": "92e8a3d7-dc46-474c-8e04-cb40c99d3b6b",
   "metadata": {},
   "outputs": [
    {
     "name": "stdout",
     "output_type": "stream",
     "text": [
      "Welcome to the CBC MILP Solver \n",
      "Version: 2.10.3 \n",
      "Build Date: Dec 15 2019 \n",
      "\n",
      "command line - /home/tonyklein/Git/PythonOR/.venv/lib/python3.11/site-packages/pulp/solverdir/cbc/linux/64/cbc /tmp/fefa21601aa3404287c067d6dbc44479-pulp.mps max timeMode elapsed branch printingOptions all solution /tmp/fefa21601aa3404287c067d6dbc44479-pulp.sol (default strategy 1)\n",
      "At line 2 NAME          MODEL\n",
      "At line 3 ROWS\n",
      "At line 8 COLUMNS\n",
      "At line 16 RHS\n",
      "At line 20 BOUNDS\n",
      "At line 21 ENDATA\n",
      "Problem MODEL has 3 rows, 2 columns and 5 elements\n",
      "Coin0008I MODEL read with 0 errors\n",
      "Option for timeMode changed from cpu to elapsed\n",
      "Presolve 2 (-1) rows, 2 (0) columns and 4 (-1) elements\n",
      "0  Obj -0 Dual inf 29.999998 (2)\n",
      "2  Obj 1500\n",
      "Optimal - objective value 1500\n",
      "After Postsolve, objective 1500, infeasibilities - dual 0 (0), primal 0 (0)\n",
      "Optimal objective 1500 - 2 iterations time 0.002, Presolve 0.00\n",
      "Option for printingOptions changed from normal to all\n",
      "Total time (CPU seconds):       0.00   (Wallclock seconds):       0.00\n",
      "\n",
      "x1 =  30.0\n",
      "x2 =  60.0\n",
      "Optimal value =  1500.0\n"
     ]
    }
   ],
   "source": [
    "# Create the LP problem\n",
    "prob = LpProblem(\"Maximization Problem\", LpMaximize)\n",
    "\n",
    "# Define the decision variables\n",
    "x1 = LpVariable(\"x1\", lowBound=0)\n",
    "x2 = LpVariable(\"x2\", lowBound=0)\n",
    "\n",
    "# Define the objective function (= Zielfunktion)\n",
    "prob += 10*x1 + 20*x2\n",
    "\n",
    "# Define the restrictions (= Nebenbedingungen)\n",
    "prob += 1*x1 + 1*x2 <= 100\n",
    "prob += 6*x1 + 9*x2 <= 720\n",
    "prob += 0*x1 + 1*x2 <= 60\n",
    "\n",
    "# Solve the LP problem\n",
    "prob.solve()\n",
    "\n",
    "# Print the optimal values of the decision variables\n",
    "print(\"x1 = \", value(x1))\n",
    "print(\"x2 = \", value(x2))\n",
    "\n",
    "# Print the optimal value of the objective function\n",
    "print(\"Optimal value = \", value(prob.objective))\n"
   ]
  },
  {
   "cell_type": "markdown",
   "id": "1b3dddf1-ef08-4133-9759-de2bba34a132",
   "metadata": {},
   "source": [
    "### Übungsaufgabe 5 - Skript 1 / Folie 50"
   ]
  },
  {
   "cell_type": "code",
   "execution_count": 9,
   "id": "5d2bbcfc-d514-4c9a-9b72-330ebc50db18",
   "metadata": {},
   "outputs": [
    {
     "name": "stdout",
     "output_type": "stream",
     "text": [
      "Welcome to the CBC MILP Solver \n",
      "Version: 2.10.3 \n",
      "Build Date: Dec 15 2019 \n",
      "\n",
      "command line - /home/tonyklein/Git/PythonOR/.venv/lib/python3.11/site-packages/pulp/solverdir/cbc/linux/64/cbc /tmp/253abb6be04f46338aa572fbee10a919-pulp.mps timeMode elapsed branch printingOptions all solution /tmp/253abb6be04f46338aa572fbee10a919-pulp.sol (default strategy 1)\n",
      "At line 2 NAME          MODEL\n",
      "At line 3 ROWS\n",
      "At line 8 COLUMNS\n",
      "At line 16 RHS\n",
      "At line 20 BOUNDS\n",
      "At line 21 ENDATA\n",
      "Problem MODEL has 3 rows, 2 columns and 5 elements\n",
      "Coin0008I MODEL read with 0 errors\n",
      "Option for timeMode changed from cpu to elapsed\n",
      "Presolve 2 (-1) rows, 2 (0) columns and 4 (-1) elements\n",
      "0  Obj 7 Primal inf 4.499998 (2)\n",
      "2  Obj 24\n",
      "Optimal - objective value 24\n",
      "After Postsolve, objective 24, infeasibilities - dual 0 (0), primal 0 (0)\n",
      "Optimal objective 24 - 2 iterations time 0.002, Presolve 0.00\n",
      "Option for printingOptions changed from normal to all\n",
      "Total time (CPU seconds):       0.00   (Wallclock seconds):       0.00\n",
      "\n",
      "x1 =  2.0\n",
      "x2 =  2.0\n",
      "Optimal value =  24.0\n"
     ]
    }
   ],
   "source": [
    "# Create the LP problem\n",
    "prob = LpProblem(\"Minimization Problem\", LpMinimize)\n",
    "\n",
    "# Define the decision variables\n",
    "x1 = LpVariable(\"x1\", lowBound=0)\n",
    "x2 = LpVariable(\"x2\", lowBound=0)\n",
    "\n",
    "# Define the objective function (= Zielfunktion)\n",
    "prob += 5*x1 + 7*x2\n",
    "\n",
    "# Define the restrictions (= Nebenbedingungen)\n",
    "prob += 2*x1 + 1*x2 >= 6\n",
    "prob += 2*x1 + 4*x2 >= 12\n",
    "prob += 0*x1 + 4*x2 >= 4\n",
    "\n",
    "# Solve the LP problem\n",
    "prob.solve()\n",
    "\n",
    "# Print the optimal values of the decision variables\n",
    "print(\"x1 = \", value(x1))\n",
    "print(\"x2 = \", value(x2))\n",
    "\n",
    "# Print the optimal value of the objective function\n",
    "print(\"Optimal value = \", value(prob.objective))\n"
   ]
  },
  {
   "cell_type": "markdown",
   "id": "1b1a4f86-df8c-417e-b6ce-e10370d121e7",
   "metadata": {},
   "source": [
    "### Übungsaufgabe 6 - Skript 1 / Folie 54"
   ]
  },
  {
   "cell_type": "code",
   "execution_count": 10,
   "id": "c1fcf6a5-5f72-4c7a-8911-9fa7db5e9a7a",
   "metadata": {},
   "outputs": [
    {
     "name": "stdout",
     "output_type": "stream",
     "text": [
      "Welcome to the CBC MILP Solver \n",
      "Version: 2.10.3 \n",
      "Build Date: Dec 15 2019 \n",
      "\n",
      "command line - /home/tonyklein/Git/PythonOR/.venv/lib/python3.11/site-packages/pulp/solverdir/cbc/linux/64/cbc /tmp/e044da16b46f4136b565b95af4c99ca4-pulp.mps max timeMode elapsed branch printingOptions all solution /tmp/e044da16b46f4136b565b95af4c99ca4-pulp.sol (default strategy 1)\n",
      "At line 2 NAME          MODEL\n",
      "At line 3 ROWS\n",
      "At line 8 COLUMNS\n",
      "At line 17 RHS\n",
      "At line 21 BOUNDS\n",
      "At line 22 ENDATA\n",
      "Problem MODEL has 3 rows, 2 columns and 6 elements\n",
      "Coin0008I MODEL read with 0 errors\n",
      "Option for timeMode changed from cpu to elapsed\n",
      "Presolve thinks problem is unbounded\n",
      "Analysis indicates model infeasible or unbounded\n",
      "0  Obj -0 Dual inf 4.9999998 (2)\n",
      "0  Obj -0 Dual inf 4.9999998 (2)\n",
      "2  Obj 7.4 Dual inf 4.1999999 (1)\n",
      "2  Obj 7.4 Dual inf 4.1999999 (1)\n",
      "Dual infeasible - objective value 7.4\n",
      "DualInfeasible objective 7.4 - 2 iterations time 0.002\n",
      "\n",
      "Result - Linear relaxation unbounded\n",
      "\n",
      "Enumerated nodes:           0\n",
      "Total iterations:           0\n",
      "Time (CPU seconds):         0.00\n",
      "Time (Wallclock Seconds):   0.00\n",
      "\n",
      "Option for printingOptions changed from normal to all\n",
      "Total time (CPU seconds):       0.00   (Wallclock seconds):       0.00\n",
      "\n",
      "x1 =  2.2\n",
      "x2 =  0.4\n",
      "Optimal value =  7.4\n"
     ]
    }
   ],
   "source": [
    "# Create the LP problem\n",
    "prob = LpProblem(\"Maximization Problem\", LpMaximize)\n",
    "\n",
    "# Define the decision variables\n",
    "x1 = LpVariable(\"x1\", lowBound=0)\n",
    "x2 = LpVariable(\"x2\", lowBound=0)\n",
    "\n",
    "# Define the objective function (= Zielfunktion)\n",
    "prob += 3*x1 + 2*x2\n",
    "\n",
    "# Define the restrictions (= Nebenbedingungen)\n",
    "prob += 2*x1 + -1*x2 <= 4\n",
    "prob += 1*x1 + -3*x2 <= 1\n",
    "prob += -2*x1 + 1*x2 <= 1\n",
    "\n",
    "# Solve the LP problem\n",
    "prob.solve()\n",
    "\n",
    "# Print the optimal values of the decision variables\n",
    "print(\"x1 = \", value(x1))\n",
    "print(\"x2 = \", value(x2))\n",
    "\n",
    "# Print the optimal value of the objective function\n",
    "print(\"Optimal value = \", value(prob.objective))\n"
   ]
  },
  {
   "cell_type": "markdown",
   "id": "b939825f-2154-4fda-8a72-86b82f81df5f",
   "metadata": {},
   "source": [
    "### Übungsaufgabe 7 - Skript 1 / Folie 68"
   ]
  },
  {
   "cell_type": "code",
   "execution_count": 11,
   "id": "447d6d3e-4f27-4d2d-98e3-2f5543af85b8",
   "metadata": {},
   "outputs": [
    {
     "name": "stdout",
     "output_type": "stream",
     "text": [
      "Welcome to the CBC MILP Solver \n",
      "Version: 2.10.3 \n",
      "Build Date: Dec 15 2019 \n",
      "\n",
      "command line - /home/tonyklein/Git/PythonOR/.venv/lib/python3.11/site-packages/pulp/solverdir/cbc/linux/64/cbc /tmp/b25c4576f387456abefda9efade90adf-pulp.mps max timeMode elapsed branch printingOptions all solution /tmp/b25c4576f387456abefda9efade90adf-pulp.sol (default strategy 1)\n",
      "At line 2 NAME          MODEL\n",
      "At line 3 ROWS\n",
      "At line 8 COLUMNS\n",
      "At line 21 RHS\n",
      "At line 25 BOUNDS\n",
      "At line 26 ENDATA\n",
      "Problem MODEL has 3 rows, 3 columns and 9 elements\n",
      "Coin0008I MODEL read with 0 errors\n",
      "Option for timeMode changed from cpu to elapsed\n",
      "Presolve 3 (0) rows, 3 (0) columns and 9 (0) elements\n",
      "0  Obj -0 Dual inf 50 (3)\n",
      "0  Obj -0 Dual inf 50 (3)\n",
      "2  Obj 1360\n",
      "Optimal - objective value 1360\n",
      "Optimal objective 1360 - 2 iterations time 0.002\n",
      "Option for printingOptions changed from normal to all\n",
      "Total time (CPU seconds):       0.00   (Wallclock seconds):       0.00\n",
      "\n",
      "x1 =  32.0\n",
      "x2 =  44.0\n",
      "x3 =  0.0\n",
      "Optimal value =  1360.0\n"
     ]
    }
   ],
   "source": [
    "# Create the LP problem\n",
    "prob = LpProblem(\"Maximization Problem\", LpMaximize)\n",
    "\n",
    "# Define the decision variables\n",
    "x1 = LpVariable(\"x1\", lowBound=0)\n",
    "x2 = LpVariable(\"x2\", lowBound=0)\n",
    "x3 = LpVariable(\"x3\", lowBound=0)\n",
    "\n",
    "# Define the objective function (= Zielfunktion)\n",
    "prob += 15*x1 + 20*x2 + 15*x3\n",
    "\n",
    "# Define the restrictions (= Nebenbedingungen)\n",
    "prob += 5*x1 + 10*x2 + 5*x3 <= 800\n",
    "prob += 15*x1 + 5*x2 + 10*x3 <= 700\n",
    "prob += 5*x1 + 10*x2 + 10*x3 <= 600\n",
    "\n",
    "# Solve the LP problem\n",
    "prob.solve()\n",
    "\n",
    "# Print the optimal values of the decision variables\n",
    "print(\"x1 = \", value(x1))\n",
    "print(\"x2 = \", value(x2))\n",
    "print(\"x3 = \", value(x3))\n",
    "\n",
    "# Print the optimal value of the objective function\n",
    "print(\"Optimal value = \", value(prob.objective))\n"
   ]
  },
  {
   "cell_type": "markdown",
   "id": "5ff91da5-a0b7-4848-90d5-7f192217ff02",
   "metadata": {},
   "source": [
    "### Übungsaufgabe 8 - Skript 1 / Folie 70"
   ]
  },
  {
   "cell_type": "code",
   "execution_count": 12,
   "id": "47a0c118-0f68-48e6-b1d3-741e2b242c70",
   "metadata": {},
   "outputs": [
    {
     "name": "stdout",
     "output_type": "stream",
     "text": [
      "Welcome to the CBC MILP Solver \n",
      "Version: 2.10.3 \n",
      "Build Date: Dec 15 2019 \n",
      "\n",
      "command line - /home/tonyklein/Git/PythonOR/.venv/lib/python3.11/site-packages/pulp/solverdir/cbc/linux/64/cbc /tmp/c65c4cbdd6aa495b95e5f9709de73b32-pulp.mps max timeMode elapsed branch printingOptions all solution /tmp/c65c4cbdd6aa495b95e5f9709de73b32-pulp.sol (default strategy 1)\n",
      "At line 2 NAME          MODEL\n",
      "At line 3 ROWS\n",
      "At line 9 COLUMNS\n",
      "At line 25 RHS\n",
      "At line 30 BOUNDS\n",
      "At line 31 ENDATA\n",
      "Problem MODEL has 4 rows, 3 columns and 12 elements\n",
      "Coin0008I MODEL read with 0 errors\n",
      "Option for timeMode changed from cpu to elapsed\n",
      "Presolve 4 (0) rows, 3 (0) columns and 12 (0) elements\n",
      "0  Obj -0 Dual inf 15 (3)\n",
      "0  Obj -0 Dual inf 15 (3)\n",
      "1  Obj 72\n",
      "Optimal - objective value 72\n",
      "Optimal objective 72 - 1 iterations time 0.002\n",
      "Option for printingOptions changed from normal to all\n",
      "Total time (CPU seconds):       0.00   (Wallclock seconds):       0.00\n",
      "\n",
      "x1 =  0.0\n",
      "x2 =  0.0\n",
      "x3 =  12.0\n",
      "Optimal value =  72.0\n"
     ]
    }
   ],
   "source": [
    "# Create the LP problem\n",
    "prob = LpProblem(\"Maximization Problem\", LpMaximize)\n",
    "\n",
    "# Define the decision variables\n",
    "x1 = LpVariable(\"x1\", lowBound=0)\n",
    "x2 = LpVariable(\"x2\", lowBound=0)\n",
    "x3 = LpVariable(\"x3\", lowBound=0)\n",
    "\n",
    "# Define the objective function (= Zielfunktion)\n",
    "prob += 3*x1 + 6*x2 + 6*x3\n",
    "\n",
    "# Define the restrictions (= Nebenbedingungen)\n",
    "prob += 4/3*x1 + 1/2*x2 + 1/3*x3 <= 8\n",
    "prob += 2/3*x1 + 2/3*x2 + 2/3*x3 <= 8\n",
    "prob += 1/3*x1 + 1*x2 + 1/2*x3 <= 8\n",
    "prob += 4/5*x1 + 4/5*x2 + 4/7*x3 <= 8\n",
    "\n",
    "# Solve the LP problem\n",
    "prob.solve()\n",
    "\n",
    "# Print the optimal values of the decision variables\n",
    "print(\"x1 = \", value(x1))\n",
    "print(\"x2 = \", value(x2))\n",
    "print(\"x3 = \", value(x3))\n",
    "\n",
    "# Print the optimal value of the objective function\n",
    "print(\"Optimal value = \", value(prob.objective))\n"
   ]
  },
  {
   "cell_type": "markdown",
   "id": "bfdb3dac-c19a-41bd-aebd-d7b2eb166f87",
   "metadata": {},
   "source": [
    "### Übungsaufgabe 9 - Skript 1 / Folie 73"
   ]
  },
  {
   "cell_type": "code",
   "execution_count": 13,
   "id": "fe348d74-d837-4dbd-abe9-0f188e9ed341",
   "metadata": {},
   "outputs": [
    {
     "name": "stdout",
     "output_type": "stream",
     "text": [
      "Welcome to the CBC MILP Solver \n",
      "Version: 2.10.3 \n",
      "Build Date: Dec 15 2019 \n",
      "\n",
      "command line - /home/tonyklein/Git/PythonOR/.venv/lib/python3.11/site-packages/pulp/solverdir/cbc/linux/64/cbc /tmp/9fb178b4d3984f8992f457f36b223130-pulp.mps timeMode elapsed branch printingOptions all solution /tmp/9fb178b4d3984f8992f457f36b223130-pulp.sol (default strategy 1)\n",
      "At line 2 NAME          MODEL\n",
      "At line 3 ROWS\n",
      "At line 8 COLUMNS\n",
      "At line 17 RHS\n",
      "At line 21 BOUNDS\n",
      "At line 22 ENDATA\n",
      "Problem MODEL has 3 rows, 2 columns and 6 elements\n",
      "Coin0008I MODEL read with 0 errors\n",
      "Option for timeMode changed from cpu to elapsed\n",
      "Presolve 3 (0) rows, 2 (0) columns and 6 (0) elements\n",
      "0  Obj 0 Primal inf 14.5 (3)\n",
      "2  Obj 16\n",
      "Optimal - objective value 16\n",
      "Optimal objective 16 - 2 iterations time 0.002\n",
      "Option for printingOptions changed from normal to all\n",
      "Total time (CPU seconds):       0.00   (Wallclock seconds):       0.00\n",
      "\n",
      "x1 =  5.0\n",
      "x2 =  2.0\n",
      "Optimal value =  16.0\n"
     ]
    }
   ],
   "source": [
    "# Create the LP problem\n",
    "prob = LpProblem(\"Minimization Problem\", LpMinimize)\n",
    "\n",
    "# Define the decision variables\n",
    "x1 = LpVariable(\"x1\", lowBound=0)\n",
    "x2 = LpVariable(\"x2\", lowBound=0)\n",
    "\n",
    "# Define the objective function (= Zielfunktion)\n",
    "prob += 2*x1 + 3*x2\n",
    "\n",
    "# Define the restrictions (= Nebenbedingungen)\n",
    "prob += 7*x1 + 2*x2 >= 21\n",
    "prob += 1*x1 + 2*x2 >= 9\n",
    "prob += 1*x1 + 1*x2 >= 7\n",
    "\n",
    "# Solve the LP problem\n",
    "prob.solve()\n",
    "\n",
    "# Print the optimal values of the decision variables\n",
    "print(\"x1 = \", value(x1))\n",
    "print(\"x2 = \", value(x2))\n",
    "\n",
    "# Print the optimal value of the objective function\n",
    "print(\"Optimal value = \", value(prob.objective))\n"
   ]
  },
  {
   "cell_type": "markdown",
   "id": "63197dc9-b80b-4fe5-94f8-bf8205cadf38",
   "metadata": {},
   "source": [
    "## Skript 2"
   ]
  },
  {
   "cell_type": "markdown",
   "id": "24fc169f-9a47-4f0d-a4bd-7350ccd4cce5",
   "metadata": {},
   "source": [
    "### Übungsaufgabe 10 - Skript 2 / Folie 1"
   ]
  },
  {
   "cell_type": "code",
   "execution_count": 14,
   "id": "2805b33b-f9f0-4e53-bbd2-0a5f93f1d90c",
   "metadata": {},
   "outputs": [
    {
     "name": "stdout",
     "output_type": "stream",
     "text": [
      "Welcome to the CBC MILP Solver \n",
      "Version: 2.10.3 \n",
      "Build Date: Dec 15 2019 \n",
      "\n",
      "command line - /home/tonyklein/Git/PythonOR/.venv/lib/python3.11/site-packages/pulp/solverdir/cbc/linux/64/cbc /tmp/73c678cb72fa4868963dab33244576ae-pulp.mps max timeMode elapsed branch printingOptions all solution /tmp/73c678cb72fa4868963dab33244576ae-pulp.sol (default strategy 1)\n",
      "At line 2 NAME          MODEL\n",
      "At line 3 ROWS\n",
      "At line 8 COLUMNS\n",
      "At line 21 RHS\n",
      "At line 25 BOUNDS\n",
      "At line 26 ENDATA\n",
      "Problem MODEL has 3 rows, 3 columns and 9 elements\n",
      "Coin0008I MODEL read with 0 errors\n",
      "Option for timeMode changed from cpu to elapsed\n",
      "Presolve 3 (0) rows, 3 (0) columns and 9 (0) elements\n",
      "0  Obj -0 Primal inf 106.66667 (2) Dual inf 45 (3)\n",
      "0  Obj -0 Primal inf 106.66667 (2) Dual inf 4.5e+10 (3)\n",
      "1  Obj 2400\n",
      "Optimal - objective value 2400\n",
      "Optimal objective 2400 - 1 iterations time 0.002\n",
      "Option for printingOptions changed from normal to all\n",
      "Total time (CPU seconds):       0.00   (Wallclock seconds):       0.00\n",
      "\n",
      "x1 =  0.0\n",
      "x2 =  0.0\n",
      "x3 =  160.0\n",
      "Optimal value =  2400.0\n"
     ]
    }
   ],
   "source": [
    "# Create the LP problem\n",
    "prob = LpProblem(\"Maximization Problem\", LpMaximize)\n",
    "\n",
    "# Define the decision variables\n",
    "x1 = LpVariable(\"x1\", lowBound=0)\n",
    "x2 = LpVariable(\"x2\", lowBound=0)\n",
    "x3 = LpVariable(\"x3\", lowBound=0)\n",
    "\n",
    "# Define the objective function (= Zielfunktion; in Maximalform angeben, d.h. wenn Minimierungsproblem *-1)\n",
    "prob += 10*x1 + 20*x2 + 15*x3\n",
    "\n",
    "# Define the restrictions (= Nebenbedingungen)\n",
    "prob += 5*x1 + 10*x2 + 5*x3 <= 800\n",
    "prob += 15*x1 + 5*x2 + 10*x3 >= 700\n",
    "prob += 5*x1 + 10*x2 + 10*x3 >= 600\n",
    "\n",
    "# Solve the LP problem\n",
    "prob.solve()\n",
    "\n",
    "# Print the optimal values of the decision variables\n",
    "print(\"x1 = \", value(x1))\n",
    "print(\"x2 = \", value(x2))\n",
    "print(\"x3 = \", value(x3))\n",
    "\n",
    "# Print the optimal value of the objective function\n",
    "print(\"Optimal value = \", value(prob.objective))\n"
   ]
  },
  {
   "cell_type": "code",
   "execution_count": null,
   "id": "f9f87a7a-76e4-4cb4-891d-6a08b4f48d20",
   "metadata": {},
   "outputs": [],
   "source": []
  }
 ],
 "metadata": {
  "kernelspec": {
   "display_name": "Python 3 (ipykernel)",
   "language": "python",
   "name": "python3"
  },
  "language_info": {
   "codemirror_mode": {
    "name": "ipython",
    "version": 3
   },
   "file_extension": ".py",
   "mimetype": "text/x-python",
   "name": "python",
   "nbconvert_exporter": "python",
   "pygments_lexer": "ipython3",
   "version": "3.11.2"
  }
 },
 "nbformat": 4,
 "nbformat_minor": 5
}
