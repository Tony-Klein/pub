{
 "cells": [
  {
   "cell_type": "code",
   "execution_count": 1,
   "id": "5c0a1ce9-35b2-49a4-9f93-b28af98c940c",
   "metadata": {},
   "outputs": [],
   "source": [
    "import heapq"
   ]
  },
  {
   "cell_type": "code",
   "execution_count": 2,
   "id": "19278b6b-9170-4914-b7ba-4750a2d0d7b9",
   "metadata": {},
   "outputs": [],
   "source": [
    "def dijkstra(graph, start):\n",
    "    distances = {node: float('inf') for node in graph}  # Initialize all distances to infinity\n",
    "    distances[start] = 0  # Set the distance of the start node to 0\n",
    "    queue = [(0, start)]  # Priority queue to store nodes with their respective distances\n",
    "\n",
    "    while queue:\n",
    "        current_distance, current_node = heapq.heappop(queue)  # Get the node with the minimum distance\n",
    "        if current_distance > distances[current_node]:\n",
    "            continue  # Skip if we have already found a shorter path to this node\n",
    "\n",
    "        for neighbor, weight in graph[current_node].items():\n",
    "            distance = current_distance + weight  # Calculate the distance to the neighbor node\n",
    "            if distance < distances[neighbor]:\n",
    "                distances[neighbor] = distance  # Update the distance if it's shorter\n",
    "                heapq.heappush(queue, (distance, neighbor))  # Add the neighbor to the queue\n",
    "\n",
    "    return distances"
   ]
  },
  {
   "cell_type": "code",
   "execution_count": 3,
   "id": "72fe84cd-c970-499c-96d3-d0da03c2d141",
   "metadata": {},
   "outputs": [],
   "source": [
    "# Define the Graph\n",
    "graph = {\n",
    "    'S': {'A': 20, 'D': 10},\n",
    "    'A': {'S': 20, 'B': 20, 'C': 50, 'D': 20},\n",
    "    'B': {'A': 20, 'C': 10},    \n",
    "    'C': {'A': 50, 'B': 10, 'D': 50},\n",
    "    'D': {'S': 10, 'A': 20, 'C': 50}\n",
    "}"
   ]
  },
  {
   "cell_type": "code",
   "execution_count": 4,
   "id": "d735a41c-f5fa-4a9c-9e36-604c4b71d99f",
   "metadata": {},
   "outputs": [],
   "source": [
    "# Define the start node\n",
    "start_node = 'S'"
   ]
  },
  {
   "cell_type": "code",
   "execution_count": 5,
   "id": "6ce79046-38ee-45e2-a9d0-0a6cabbd9bdc",
   "metadata": {},
   "outputs": [
    {
     "name": "stdout",
     "output_type": "stream",
     "text": [
      "Shortest distances from node S:\n",
      "To node S: 0\n",
      "To node A: 20\n",
      "To node B: 40\n",
      "To node C: 50\n",
      "To node D: 10\n"
     ]
    }
   ],
   "source": [
    "distances = dijkstra(graph, start_node)\n",
    "\n",
    "print(f\"Shortest distances from node {start_node}:\")\n",
    "for node, distance in distances.items():\n",
    "    print(f\"To node {node}: {distance}\")"
   ]
  }
 ],
 "metadata": {
  "kernelspec": {
   "display_name": "Python 3 (ipykernel)",
   "language": "python",
   "name": "python3"
  },
  "language_info": {
   "codemirror_mode": {
    "name": "ipython",
    "version": 3
   },
   "file_extension": ".py",
   "mimetype": "text/x-python",
   "name": "python",
   "nbconvert_exporter": "python",
   "pygments_lexer": "ipython3",
   "version": "3.9.7"
  }
 },
 "nbformat": 4,
 "nbformat_minor": 5
}
